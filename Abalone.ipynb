{
 "cells": [
  {
   "cell_type": "code",
   "execution_count": 1,
   "id": "d49f162c",
   "metadata": {},
   "outputs": [],
   "source": [
    "from pyspark.sql import SparkSession\n",
    "\n",
    "spark = SparkSession.builder.appName('Abalone')\\\n",
    ".config(\"spark.master\", \"local\")\\\n",
    ".config(\"spark.hadoop.fs.defaultFS\", \"file:///\")\\\n",
    ".getOrCreate()\n",
    "spark"
   ]
  },
  {
   "cell_type": "code",
   "execution_count": 2,
   "id": "6bb2d6c3",
   "metadata": {},
   "outputs": [],
   "source": [
    "# df = spark.read.csv('Original/abalone.data', inferSchema=True)\n",
    "# df = df.toDF(*['Sex', \n",
    "#                'Length', 'Diameter', 'Height', \n",
    "#                'Whole weight', 'Shucked weight', 'Viscera weight', 'Shell weight', \n",
    "#                'Rings'])\n",
    "# df.show()"
   ]
  },
  {
   "cell_type": "code",
   "execution_count": 3,
   "id": "464b3ea1",
   "metadata": {},
   "outputs": [],
   "source": [
    "df = spark.read.csv('train.csv', header=True, inferSchema=True)"
   ]
  },
  {
   "cell_type": "code",
   "execution_count": 4,
   "id": "e82a6be7",
   "metadata": {},
   "outputs": [],
   "source": [
    "df.printSchema()"
   ]
  },
  {
   "cell_type": "code",
   "execution_count": 5,
   "id": "4991fec4",
   "metadata": {},
   "outputs": [],
   "source": [
    "df.show()"
   ]
  },
  {
   "cell_type": "markdown",
   "id": "4219d16f",
   "metadata": {},
   "source": [
    "## Rename Columns"
   ]
  },
  {
   "cell_type": "code",
   "execution_count": 6,
   "id": "0f5d689f",
   "metadata": {},
   "outputs": [],
   "source": [
    "df = df.withColumnsRenamed({'Whole weight.1': 'Shucked weight',\n",
    "                            'Whole weight.2': 'Viscera weight'})"
   ]
  },
  {
   "cell_type": "code",
   "execution_count": 7,
   "id": "c384658e",
   "metadata": {},
   "outputs": [],
   "source": [
    "df.columns"
   ]
  },
  {
   "cell_type": "markdown",
   "id": "3c37e0d8",
   "metadata": {},
   "source": [
    "## Check Missing or Empty Values"
   ]
  },
  {
   "cell_type": "code",
   "execution_count": 8,
   "id": "fcf84b74",
   "metadata": {},
   "outputs": [],
   "source": [
    "from pyspark.sql.functions import col, trim\n",
    "from functools import reduce\n",
    "\n",
    "\n",
    "# first way of doing it\n",
    "condition = reduce(\n",
    "    lambda a, b: a | b,\n",
    "    [(col(c).isNull()) | (trim(col(c)) == '') if dict(df.dtypes)[c] == 'string'\n",
    "     else (col(c).isNull()) if c == 'id'\n",
    "     else (col(c).isNull()) | (col(c) == 0)\n",
    "     for c in df.columns])\n",
    "\n",
    "condition"
   ]
  },
  {
   "cell_type": "code",
   "execution_count": 9,
   "id": "118d2d7a",
   "metadata": {},
   "outputs": [],
   "source": [
    "# second way of doing it but cannor work on complex query (with different data types)\n",
    "\" OR \".join(\n",
    "    [f\"({c} IS NULL OR TRIM({c}) = '')\"  if dict(df.dtypes)[c] == 'string'\n",
    "     else f\"({c} IS NULL OR {c} = 0)\"\n",
    "     for c in df.columns])"
   ]
  },
  {
   "cell_type": "code",
   "execution_count": 10,
   "id": "441f5e95",
   "metadata": {},
   "outputs": [],
   "source": [
    "df.filter(condition).show()"
   ]
  },
  {
   "cell_type": "code",
   "execution_count": 11,
   "id": "808e3c24",
   "metadata": {},
   "outputs": [],
   "source": [
    "df = df.filter(~condition)"
   ]
  },
  {
   "cell_type": "markdown",
   "id": "5ffeb039",
   "metadata": {},
   "source": [
    "## Exploration"
   ]
  },
  {
   "cell_type": "code",
   "execution_count": 12,
   "id": "fb329548",
   "metadata": {},
   "outputs": [],
   "source": [
    "df.groupBy('Sex').count().show() # Consider evenly distributed"
   ]
  },
  {
   "cell_type": "code",
   "execution_count": 13,
   "id": "ee7dc117",
   "metadata": {},
   "outputs": [],
   "source": [
    "from pyspark.sql.functions import min, max\n",
    "\n",
    "df.select(min(\"Rings\").alias(\"MIN\"), max(\"Rings\").alias(\"MAX\")).show()"
   ]
  },
  {
   "cell_type": "code",
   "execution_count": 14,
   "id": "6f8f741b",
   "metadata": {},
   "outputs": [],
   "source": [
    "cols_name = [col for col in df.columns if dict(df.dtypes)[col] == 'double']\n",
    "\n",
    "df.select(cols_name).describe().toPandas().set_index('summary').transpose()"
   ]
  },
  {
   "cell_type": "code",
   "execution_count": 15,
   "id": "3ff3570c",
   "metadata": {},
   "outputs": [],
   "source": [
    "import pandas as pd\n",
    "\n",
    "quartiles = {}\n",
    "for col in cols_name:\n",
    "    quartiles[col] = df.approxQuantile(col, [0.0, 0.25, 0.5, 0.75, 1.0], 0)\n",
    "    \n",
    "quartiles_df = pd.DataFrame(quartiles, index=[\"Min\", \"25%\", \"50%\", \"75%\", \"Max\"])\n",
    "quartiles_df.rename(columns={\"index\": \"Column\"}, inplace=True)\n",
    "quartiles_df"
   ]
  },
  {
   "cell_type": "markdown",
   "id": "a138973f",
   "metadata": {},
   "source": [
    "- Length: There is outliers with small values (based on quartiles). The std is not consider large. \\\n",
    "- Diameter: **Similar to Length**. The std is consider small. \\\n",
    "- Height: There is outliers with big and small values. The std is consider small. \\\n",
    "- Whole Weight: **Similar to Height**. The std is consider in normal range given the difference between 25%-50%-75%. \\\n",
    "- Shucked Weight: **Similar to Whole Weight**. *(Even for std)* \\\n",
    "- Viscera Weight: There is outliers with small values. *Maximum can also be consider as outliers??* The std is large which can be due to Min and Max.\\\n",
    "- Shell WeightL **Similar to Whole Weight**. *(Even for std)*"
   ]
  },
  {
   "cell_type": "markdown",
   "id": "3e6a4cae",
   "metadata": {},
   "source": [
    "## Visualisation"
   ]
  },
  {
   "cell_type": "code",
   "execution_count": 16,
   "id": "ec642741",
   "metadata": {},
   "outputs": [],
   "source": [
    "import plotly.express as px\n",
    "import matplotlib.pyplot as plt\n",
    "import seaborn as sns\n",
    "\n",
    "import numpy as np"
   ]
  },
  {
   "cell_type": "code",
   "execution_count": 17,
   "id": "181650e5",
   "metadata": {},
   "outputs": [],
   "source": [
    "# Plotly doesn't support pyspark\n",
    "pandas_df = df.toPandas()"
   ]
  },
  {
   "cell_type": "code",
   "execution_count": 18,
   "id": "b6387113",
   "metadata": {},
   "outputs": [],
   "source": [
    "pandas_df.dtypes"
   ]
  },
  {
   "cell_type": "markdown",
   "id": "f93e8b1c",
   "metadata": {},
   "source": [
    "### Boxplot"
   ]
  },
  {
   "cell_type": "code",
   "execution_count": 19,
   "id": "792388a4",
   "metadata": {},
   "outputs": [],
   "source": [
    "fig, axs = plt.subplots(4, 3, figsize=(15, 20))\n",
    "axs = axs.flatten()\n",
    "\n",
    "for index, col in enumerate(cols_name):\n",
    "    sns.boxplot(x = 'Sex', y = col, data = pandas_df, ax=axs[index])\n",
    "    \n",
    "    axs[index].set_title(f'Boxplot for {col} By Sex', fontdict={\"fontsize\":16}, pad=10)\n",
    "    axs[index].set_xlabel('Sex', fontsize=16)\n",
    "    axs[index].set_ylabel(f'{col}', fontsize=16)\n",
    "    axs[index].tick_params(axis='both', which='major', labelsize=12)\n",
    "    \n",
    "for ax in axs[len(cols_name):]:\n",
    "    fig.delaxes(ax)\n",
    "    \n",
    "plt.tight_layout(pad=3.0)\n",
    "    \n",
    "plt.show()"
   ]
  },
  {
   "cell_type": "markdown",
   "id": "2c4cb0c6",
   "metadata": {},
   "source": [
    "### Histogram"
   ]
  },
  {
   "cell_type": "code",
   "execution_count": 20,
   "id": "cfe5c175",
   "metadata": {},
   "outputs": [],
   "source": [
    "fig, axs = plt.subplots(4, 3, figsize=(15, 20))\n",
    "axs = axs.flatten()\n",
    "\n",
    "colors = ['red', 'green', 'blue']\n",
    "\n",
    "for index, col in enumerate(cols_name):\n",
    "    \n",
    "    data_list = []\n",
    "    for sex in list(pandas_df['Sex'].unique()):\n",
    "        \n",
    "        data = pandas_df[pandas_df[\"Sex\"] == sex][col]\n",
    "        data_list.append(data)\n",
    "        \n",
    "    bins = np.arange(0.0, pandas_df[col].max(), 0.1)\n",
    "    \n",
    "    axs[index].hist(data_list, bins=bins, density=True, histtype='step', \n",
    "                    stacked=False, color=colors, label=list(pandas_df['Sex'].unique()),\n",
    "                    alpha=0.5)\n",
    "    \n",
    "    axs[index].set_title(f'Stacked Histogram for {col}')\n",
    "    axs[index].set_xlabel(col)\n",
    "    axs[index].set_ylabel('Density')\n",
    "    axs[index].legend()\n",
    "    \n",
    "for ax in axs[len(cols_name):]:\n",
    "        fig.delaxes(ax)\n",
    "\n",
    "# Adjust layout\n",
    "plt.tight_layout(pad=3.0)"
   ]
  },
  {
   "cell_type": "markdown",
   "id": "85ed44f0",
   "metadata": {},
   "source": [
    "Based on the **Boxplot** and **Histogram**, there is not clear different between Male and Female Abalone. Assuming there is no clear difference between Male and Female in Abalone, unlike other animals in the nature. Infant does have noticeable difference which make sense because they are still small."
   ]
  },
  {
   "cell_type": "markdown",
   "id": "c1aa791b",
   "metadata": {},
   "source": [
    "### Hexbin"
   ]
  },
  {
   "cell_type": "code",
   "execution_count": 21,
   "id": "d3565a54",
   "metadata": {},
   "outputs": [],
   "source": [
    "fig, axs = plt.subplots(4, 3, figsize=(15, 20))\n",
    "axs = axs.flatten()\n",
    "\n",
    "colors = ['red', 'green', 'blue']\n",
    "\n",
    "for index, col in enumerate(cols_name):\n",
    "    \n",
    "    axs[index].hexbin(pandas_df['Rings'], pandas_df[col], gridsize = 30, bins = 'log', cmap = 'BuPu')\n",
    "    \n",
    "    axs[index].set_title(f'Hexbin Plot for {col}')\n",
    "    axs[index].set_xlabel('Rings')\n",
    "    axs[index].set_ylabel(col)\n",
    "    \n",
    "for ax in axs[len(cols_name):]:\n",
    "        fig.delaxes(ax)\n",
    "\n",
    "# Adjust layout\n",
    "plt.tight_layout(pad=3.0)"
   ]
  },
  {
   "cell_type": "markdown",
   "id": "acc7fab6",
   "metadata": {},
   "source": [
    "### Pair Plot"
   ]
  },
  {
   "cell_type": "code",
   "execution_count": 22,
   "id": "c7b128bd",
   "metadata": {
    "scrolled": false
   },
   "outputs": [],
   "source": [
    "# Execute too long\n",
    "# plot_features = cols_name + ['Sex', 'Rings']\n",
    "# sns.pairplot(pandas_df[plot_features], hue = 'Sex')"
   ]
  },
  {
   "cell_type": "markdown",
   "id": "96bd43da",
   "metadata": {},
   "source": [
    "### Scatter Plot"
   ]
  },
  {
   "cell_type": "code",
   "execution_count": 23,
   "id": "f2856552",
   "metadata": {},
   "outputs": [],
   "source": [
    "fig, axs = plt.subplots(4, 3, figsize=(15, 20))\n",
    "axs = axs.flatten()\n",
    "\n",
    "for index, col in enumerate(cols_name):\n",
    "    \n",
    "    sns.scatterplot(x = 'Rings', y = col, data = pandas_df, hue = 'Sex', ax=axs[index])\n",
    "    \n",
    "    axs[index].set_title(f'Scatter Plot for Rings vs {col}')\n",
    "    axs[index].set_xlabel('Rings')\n",
    "    axs[index].set_ylabel(col)\n",
    "    axs[index].legend()\n",
    "    \n",
    "for ax in axs[len(cols_name):]:\n",
    "        fig.delaxes(ax)\n",
    "\n",
    "# Adjust layout\n",
    "plt.tight_layout(pad=3.0)"
   ]
  },
  {
   "cell_type": "markdown",
   "id": "43b79b22",
   "metadata": {},
   "source": [
    "The dimensions (**Length, Diameter, Height**) of Abalone grow logarithmically with Rings. The dimensions doesn't change that much as they grow older. But all **weights** grow exponentially with Rings. While the dimensions doesn't change, their weight grows as they grow older. Assuming the shell (dimensions) doesn't change that much, but the meat become heavier (shell muscle grows bigger). "
   ]
  },
  {
   "cell_type": "markdown",
   "id": "b7fc4e6d",
   "metadata": {},
   "source": [
    "### 3D Scatter Plot for Length, Diameter, Height"
   ]
  },
  {
   "cell_type": "code",
   "execution_count": 24,
   "id": "93d53c52",
   "metadata": {},
   "outputs": [],
   "source": [
    "# sample_df = pandas_df.groupby('Sex').apply(lambda x: x.sample(n=min(len(x), 500))).reset_index(drop=True)"
   ]
  },
  {
   "cell_type": "code",
   "execution_count": 25,
   "id": "b70a1040",
   "metadata": {},
   "outputs": [],
   "source": [
    "fig = px.scatter_3d(pandas_df, x='Length', y='Diameter', z='Height',\n",
    "                    color='Sex')\n",
    "fig.show()"
   ]
  },
  {
   "cell_type": "markdown",
   "id": "6ba24cb0",
   "metadata": {},
   "source": [
    "## Test Data"
   ]
  },
  {
   "cell_type": "code",
   "execution_count": 26,
   "id": "7c1a1dfd",
   "metadata": {},
   "outputs": [],
   "source": [
    "test_data = spark.read.csv('test.csv', header=True, inferSchema=True)\n",
    "\n",
    "test_data = test_data.withColumnsRenamed({'Whole weight.1': 'Shucked weight',\n",
    "                                      'Whole weight.2': 'Viscera weight'})\n",
    "\n",
    "test_data.show()"
   ]
  },
  {
   "cell_type": "markdown",
   "id": "537ac242",
   "metadata": {},
   "source": [
    "## Modelling"
   ]
  },
  {
   "cell_type": "code",
   "execution_count": 27,
   "id": "cdfa2c9d",
   "metadata": {},
   "outputs": [],
   "source": [
    "# train_data, test_data = train_data.randomSplit([0.7, 0.3])\n",
    "\n",
    "# print(f\"Train Data: {train_data.count()} rows\")\n",
    "# print(f\"Test Data: {test_data.count()} rows\")"
   ]
  },
  {
   "cell_type": "markdown",
   "id": "a3583857",
   "metadata": {},
   "source": [
    "### Linear Regression"
   ]
  },
  {
   "cell_type": "code",
   "execution_count": 28,
   "id": "7f191154",
   "metadata": {},
   "outputs": [],
   "source": [
    "from pyspark.ml.feature import StringIndexer\n",
    "from pyspark.ml.feature import OneHotEncoder\n",
    "from pyspark.ml.feature import VectorAssembler\n",
    "from pyspark.ml.feature import MinMaxScaler\n",
    "from pyspark.ml.regression import LinearRegression\n",
    "from pyspark.ml import Pipeline\n",
    "\n",
    "indexer = StringIndexer(inputCol='Sex', outputCol='Sex_Index')\n",
    "encoder = OneHotEncoder(inputCol='Sex_Index', outputCol='Sex_OneHot')\n",
    "scaler_assembler = VectorAssembler(inputCols=cols_name, outputCol=\"numerical_features\")\n",
    "scaler = MinMaxScaler(inputCol=\"numerical_features\", outputCol=\"scaled_features\")\n",
    "final_assembler = VectorAssembler(inputCols=[\"Sex_OneHot\", \"scaled_features\"], outputCol=\"independent_features\")\n",
    "\n",
    "regressor = LinearRegression(featuresCol='independent_features', labelCol='Rings')\n",
    "\n",
    "pipeline = Pipeline(stages=[indexer, encoder, scaler_assembler, \n",
    "                            scaler, final_assembler, regressor])"
   ]
  },
  {
   "cell_type": "code",
   "execution_count": 29,
   "id": "9147fc23",
   "metadata": {},
   "outputs": [],
   "source": [
    "train_data = df\n",
    "\n",
    "model = pipeline.fit(train_data)"
   ]
  },
  {
   "cell_type": "code",
   "execution_count": 30,
   "id": "a8d1389d",
   "metadata": {},
   "outputs": [],
   "source": [
    "print(f'Coefficient: {model.stages[-1].coefficients}')\n",
    "print(f'Intercept: {model.stages[-1].intercept}')"
   ]
  },
  {
   "cell_type": "code",
   "execution_count": 31,
   "id": "8b0bc07d",
   "metadata": {},
   "outputs": [],
   "source": [
    "# pred = model.evaluate(test_data)\n",
    "# pred.predictions.show()"
   ]
  },
  {
   "cell_type": "code",
   "execution_count": 32,
   "id": "4bc92a76",
   "metadata": {},
   "outputs": [],
   "source": [
    "# pred.meanAbsoluteError,pred.meanSquaredError"
   ]
  },
  {
   "cell_type": "code",
   "execution_count": 33,
   "id": "125e4cdb",
   "metadata": {},
   "outputs": [],
   "source": [
    "pred = model.transform(test_data)\n",
    "pred.select('id', 'prediction').show()"
   ]
  },
  {
   "cell_type": "code",
   "execution_count": 34,
   "id": "6c343bf6",
   "metadata": {},
   "outputs": [],
   "source": [
    "from pyspark.sql.functions import when\n",
    "from pyspark.sql import functions as F\n",
    "\n",
    "pred = pred.withColumnRenamed('prediction', 'Rings')\n",
    "\n",
    "pred.select(min(\"Rings\").alias(\"MIN\"), max(\"Rings\").alias(\"MAX\")).show()\n",
    "pred = pred.withColumn('Rings', F.when(F.col('Rings') < 1, 1).otherwise(F.col('Rings')))\n",
    "pred.select(min(\"Rings\").alias(\"MIN\"), max(\"Rings\").alias(\"MAX\")).show()"
   ]
  },
  {
   "cell_type": "code",
   "execution_count": 35,
   "id": "af78e848",
   "metadata": {},
   "outputs": [],
   "source": [
    "# Save as a single CSV file using Pandas\n",
    "pred.toPandas().to_csv('D:/Self-Learning/Spark/Abalone/LR_pred.csv', index=False)\n",
    "\n",
    "# answer.write.csv('D:/Self-Learning/Spark/Abalone/LR_pred', header=True)"
   ]
  },
  {
   "cell_type": "markdown",
   "id": "00aeaf24",
   "metadata": {},
   "source": [
    "### Polynomial Regression"
   ]
  },
  {
   "cell_type": "code",
   "execution_count": 36,
   "id": "13cc628f",
   "metadata": {},
   "outputs": [],
   "source": [
    "from pyspark.ml.feature import PolynomialExpansion\n",
    "\n",
    "indexer = StringIndexer(inputCol='Sex', outputCol='Sex_Index')\n",
    "encoder = OneHotEncoder(inputCol='Sex_Index', outputCol='Sex_OneHot')\n",
    "polynomial_assembler = VectorAssembler(inputCols=cols_name, outputCol=\"numerical_features\")\n",
    "poly_expansion = PolynomialExpansion(degree=2, inputCol=\"numerical_features\", outputCol=\"poly_features\")\n",
    "scaler = MinMaxScaler(inputCol=\"poly_features\", outputCol=\"scaled_features\")\n",
    "final_assembler = VectorAssembler(inputCols=[\"Sex_OneHot\", \"scaled_features\"], outputCol=\"independent_features\")\n",
    "\n",
    "regressor = LinearRegression(featuresCol='independent_features', labelCol='Rings')\n",
    "\n",
    "pipeline = Pipeline(stages=[indexer, encoder, \n",
    "                            polynomial_assembler, poly_expansion,\n",
    "                            scaler, final_assembler, regressor])"
   ]
  },
  {
   "cell_type": "code",
   "execution_count": 37,
   "id": "fcee8949",
   "metadata": {},
   "outputs": [],
   "source": [
    "# train_data, test_data = train_data.randomSplit([0.7, 0.3])\n",
    "\n",
    "# print(f\"Train Data: {train_data.count()} rows\")\n",
    "# print(f\"Test Data: {test_data.count()} rows\")"
   ]
  },
  {
   "cell_type": "code",
   "execution_count": 38,
   "id": "52402429",
   "metadata": {},
   "outputs": [],
   "source": [
    "train_data = df\n",
    "\n",
    "model = pipeline.fit(train_data)"
   ]
  },
  {
   "cell_type": "code",
   "execution_count": 39,
   "id": "b1df398a",
   "metadata": {},
   "outputs": [],
   "source": [
    "# print(f'Coefficient: {model.stages[-1].coefficients}')\n",
    "# print(f'Intercept: {model.stages[-1].intercept}')"
   ]
  },
  {
   "cell_type": "code",
   "execution_count": 40,
   "id": "77691de2",
   "metadata": {},
   "outputs": [],
   "source": [
    "# pred = model.evaluate(test_data)\n",
    "# pred.predictions.show()"
   ]
  },
  {
   "cell_type": "code",
   "execution_count": 41,
   "id": "21d40c75",
   "metadata": {},
   "outputs": [],
   "source": [
    "# pred.meanAbsoluteError,pred.meanSquaredError"
   ]
  },
  {
   "cell_type": "code",
   "execution_count": 42,
   "id": "9da815f5",
   "metadata": {},
   "outputs": [],
   "source": [
    "pred = model.transform(test_data)\n",
    "pred.select('id', 'prediction').show()"
   ]
  },
  {
   "cell_type": "code",
   "execution_count": 43,
   "id": "3f58bc6c",
   "metadata": {},
   "outputs": [],
   "source": [
    "pred = pred.withColumnRenamed('prediction', 'Rings')\n",
    "\n",
    "pred.select(min(\"Rings\").alias(\"MIN\"), max(\"Rings\").alias(\"MAX\")).show()\n",
    "pred = pred.withColumn('Rings', F.when(F.col('Rings') < 1, 1).otherwise(F.col('Rings')))\n",
    "pred.select(min(\"Rings\").alias(\"MIN\"), max(\"Rings\").alias(\"MAX\")).show()"
   ]
  },
  {
   "cell_type": "code",
   "execution_count": 44,
   "id": "7df2e8d2",
   "metadata": {},
   "outputs": [],
   "source": [
    "pred.toPandas().to_csv('D:/Self-Learning/Spark/Abalone/PR_pred.csv', index=False)\n",
    "\n",
    "# answer.write.csv('D:/Self-Learning/Spark/Abalone/LR_pred', header=True)"
   ]
  },
  {
   "cell_type": "markdown",
   "id": "ede489e8",
   "metadata": {},
   "source": [
    "## Decision Tree Regression"
   ]
  },
  {
   "cell_type": "code",
   "execution_count": 45,
   "id": "8271b9fa",
   "metadata": {},
   "outputs": [],
   "source": [
    "from pyspark.ml.regression import DecisionTreeRegressor\n",
    "\n",
    "indexer = StringIndexer(inputCol='Sex', outputCol='Sex_Index')\n",
    "encoder = OneHotEncoder(inputCol='Sex_Index', outputCol='Sex_OneHot')\n",
    "scaler_assembler = VectorAssembler(inputCols=cols_name, outputCol=\"numerical_features\")\n",
    "scaler = MinMaxScaler(inputCol=\"numerical_features\", outputCol=\"scaled_features\")\n",
    "final_assembler = VectorAssembler(inputCols=[\"Sex_OneHot\", \"scaled_features\"], outputCol=\"independent_features\")\n",
    "\n",
    "# https://spark.apache.org/docs/latest/api/python/reference/api/pyspark.ml.regression.DecisionTreeRegressor.html#pyspark.ml.regression.DecisionTreeRegressor\n",
    "regressor = DecisionTreeRegressor(featuresCol=\"independent_features\", labelCol=\"Rings\")\n",
    "\n",
    "\n",
    "pipeline = Pipeline(stages=[indexer, encoder, scaler_assembler, \n",
    "                            scaler, final_assembler, regressor])"
   ]
  },
  {
   "cell_type": "code",
   "execution_count": 46,
   "id": "65fb3c6f",
   "metadata": {},
   "outputs": [],
   "source": [
    "train_data = df\n",
    "\n",
    "model = pipeline.fit(train_data)"
   ]
  },
  {
   "cell_type": "code",
   "execution_count": 47,
   "id": "10d4113b",
   "metadata": {},
   "outputs": [],
   "source": [
    "pred = model.transform(test_data)\n",
    "pred.select('id', 'prediction').show()"
   ]
  },
  {
   "cell_type": "code",
   "execution_count": 48,
   "id": "4d0f51e4",
   "metadata": {},
   "outputs": [],
   "source": [
    "pred = pred.select('id', 'prediction')\n",
    "pred = pred.withColumnRenamed('prediction', 'Rings')\n",
    "\n",
    "pred.select(min(\"Rings\").alias(\"MIN\"), max(\"Rings\").alias(\"MAX\")).show()\n",
    "pred = pred.withColumn('Rings', F.when(F.col('Rings') < 1, 1).otherwise(F.col('Rings')))\n",
    "pred.select(min(\"Rings\").alias(\"MIN\"), max(\"Rings\").alias(\"MAX\")).show()"
   ]
  },
  {
   "cell_type": "code",
   "execution_count": 49,
   "id": "498a0f60",
   "metadata": {},
   "outputs": [],
   "source": [
    "pred.toPandas().to_csv('D:/Self-Learning/Spark/Abalone/DT_pred.csv', index=False)"
   ]
  },
  {
   "cell_type": "markdown",
   "id": "63516a27",
   "metadata": {},
   "source": [
    "## Random Forest Regression"
   ]
  },
  {
   "cell_type": "code",
   "execution_count": 50,
   "id": "1c456e10",
   "metadata": {},
   "outputs": [],
   "source": [
    "from pyspark.ml.regression import RandomForestRegressor\n",
    "\n",
    "# https://spark.apache.org/docs/latest/api/python/reference/api/pyspark.ml.regression.RandomForestRegressor.html#pyspark.ml.regression.RandomForestRegressor\n",
    "regressor = RandomForestRegressor(featuresCol=\"independent_features\", labelCol=\"Rings\")\n",
    "\n",
    "\n",
    "pipeline = Pipeline(stages=[indexer, encoder, scaler_assembler, \n",
    "                            scaler, final_assembler, regressor])"
   ]
  },
  {
   "cell_type": "code",
   "execution_count": 51,
   "id": "ce3f75ee",
   "metadata": {},
   "outputs": [],
   "source": [
    "train_data = df\n",
    "\n",
    "model = pipeline.fit(train_data)"
   ]
  },
  {
   "cell_type": "code",
   "execution_count": 52,
   "id": "5d7e3d9f",
   "metadata": {},
   "outputs": [],
   "source": [
    "pred = model.transform(test_data)\n",
    "pred.select('id', 'prediction').show()"
   ]
  },
  {
   "cell_type": "code",
   "execution_count": 53,
   "id": "45b0e592",
   "metadata": {},
   "outputs": [],
   "source": [
    "pred = pred.select('id', 'prediction')\n",
    "pred = pred.withColumnRenamed('prediction', 'Rings')\n",
    "\n",
    "pred.select(min(\"Rings\").alias(\"MIN\"), max(\"Rings\").alias(\"MAX\")).show()\n",
    "pred = pred.withColumn('Rings', F.when(F.col('Rings') < 1, 1).otherwise(F.col('Rings')))\n",
    "pred.select(min(\"Rings\").alias(\"MIN\"), max(\"Rings\").alias(\"MAX\")).show()"
   ]
  },
  {
   "cell_type": "code",
   "execution_count": 54,
   "id": "696a1040",
   "metadata": {},
   "outputs": [],
   "source": [
    "pred.toPandas().to_csv('D:/Self-Learning/Spark/Abalone/RF_pred.csv', index=False)"
   ]
  }
 ],
 "metadata": {
  "kernelspec": {
   "display_name": "Python 3 (ipykernel)",
   "language": "python",
   "name": "python3"
  },
  "language_info": {
   "codemirror_mode": {
    "name": "ipython",
    "version": 3
   },
   "file_extension": ".py",
   "mimetype": "text/x-python",
   "name": "python",
   "nbconvert_exporter": "python",
   "pygments_lexer": "ipython3",
   "version": "3.9.19"
  }
 },
 "nbformat": 4,
 "nbformat_minor": 5
}
